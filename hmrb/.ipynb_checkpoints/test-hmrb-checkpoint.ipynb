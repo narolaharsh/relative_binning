{
 "cells": [
  {
   "cell_type": "code",
   "execution_count": 1,
   "id": "7e3828fc",
   "metadata": {},
   "outputs": [],
   "source": [
    "import bilby \n",
    "import matplotlib.pyplot as plt\n",
    "import lal\n",
    "import numpy as np\n",
    "from hmrb_likelihood import RelativeBinningHOM"
   ]
  },
  {
   "cell_type": "code",
   "execution_count": 2,
   "id": "c6edcce8",
   "metadata": {},
   "outputs": [
    {
     "name": "stderr",
     "output_type": "stream",
     "text": [
      "12:18 bilby INFO    : Waveform generator initiated with\n",
      "  frequency_domain_source_model: bilby.gw.source.lal_binary_black_hole\n",
      "  time_domain_source_model: None\n",
      "  parameter_conversion: bilby.gw.conversion.convert_to_lal_binary_black_hole_parameters\n",
      "12:18 bilby WARNING : Injecting signal outside segment, start_time=1126259656.413, merger time=1126259642.413.\n",
      "12:18 bilby INFO    : Injected signal in H1:\n",
      "12:18 bilby INFO    :   optimal SNR = 29.82\n",
      "12:18 bilby INFO    :   matched filter SNR = 27.61+0.33j\n",
      "12:18 bilby INFO    :   mass_1 = 50.0\n",
      "12:18 bilby INFO    :   mass_2 = 32.0\n",
      "12:18 bilby INFO    :   a_1 = 0.4\n",
      "12:18 bilby INFO    :   a_2 = 0.3\n",
      "12:18 bilby INFO    :   tilt_1 = 0.5\n",
      "12:18 bilby INFO    :   tilt_2 = 1.0\n",
      "12:18 bilby INFO    :   phi_12 = 1.7\n",
      "12:18 bilby INFO    :   phi_jl = 1.57\n",
      "12:18 bilby INFO    :   luminosity_distance = 500.0\n",
      "12:18 bilby INFO    :   theta_jn = 1.57\n",
      "12:18 bilby INFO    :   psi = 2.659\n",
      "12:18 bilby INFO    :   phase = 1.3\n",
      "12:18 bilby INFO    :   geocent_time = 1126259642.413\n",
      "12:18 bilby INFO    :   ra = 1.375\n",
      "12:18 bilby INFO    :   dec = -1.2108\n",
      "12:18 bilby WARNING : Injecting signal outside segment, start_time=1126259656.413, merger time=1126259642.413.\n",
      "12:18 bilby INFO    : Injected signal in L1:\n",
      "12:18 bilby INFO    :   optimal SNR = 23.41\n",
      "12:18 bilby INFO    :   matched filter SNR = 24.14+0.93j\n",
      "12:18 bilby INFO    :   mass_1 = 50.0\n",
      "12:18 bilby INFO    :   mass_2 = 32.0\n",
      "12:18 bilby INFO    :   a_1 = 0.4\n",
      "12:18 bilby INFO    :   a_2 = 0.3\n",
      "12:18 bilby INFO    :   tilt_1 = 0.5\n",
      "12:18 bilby INFO    :   tilt_2 = 1.0\n",
      "12:18 bilby INFO    :   phi_12 = 1.7\n",
      "12:18 bilby INFO    :   phi_jl = 1.57\n",
      "12:18 bilby INFO    :   luminosity_distance = 500.0\n",
      "12:18 bilby INFO    :   theta_jn = 1.57\n",
      "12:18 bilby INFO    :   psi = 2.659\n",
      "12:18 bilby INFO    :   phase = 1.3\n",
      "12:18 bilby INFO    :   geocent_time = 1126259642.413\n",
      "12:18 bilby INFO    :   ra = 1.375\n",
      "12:18 bilby INFO    :   dec = -1.2108\n"
     ]
    },
    {
     "data": {
      "text/plain": [
       "[{'plus': array([0.+0.j, 0.+0.j, 0.+0.j, ..., 0.+0.j, 0.+0.j, 0.+0.j]),\n",
       "  'cross': array([0.+0.j, 0.+0.j, 0.+0.j, ..., 0.+0.j, 0.+0.j, 0.+0.j])},\n",
       " {'plus': array([0.+0.j, 0.+0.j, 0.+0.j, ..., 0.+0.j, 0.+0.j, 0.+0.j]),\n",
       "  'cross': array([0.+0.j, 0.+0.j, 0.+0.j, ..., 0.+0.j, 0.+0.j, 0.+0.j])}]"
      ]
     },
     "execution_count": 2,
     "metadata": {},
     "output_type": "execute_result"
    }
   ],
   "source": [
    "sampling_frequency = 2048\n",
    "duration = 16\n",
    "minimum_frequency = 20.\n",
    "reference_frequency = 50.\n",
    "approximant = 'IMRPhenomXPHM'\n",
    "\n",
    "params = dict(\n",
    "    mass_1=50.0,\n",
    "    mass_2=32.0,\n",
    "    a_1=0.4,\n",
    "    a_2=0.3,\n",
    "    tilt_1=0.5,\n",
    "    tilt_2=1.0,\n",
    "    phi_12=1.7,\n",
    "    phi_jl=1.57,\n",
    "    luminosity_distance=500.0,\n",
    "    theta_jn=1.57,\n",
    "    psi=2.659,\n",
    "    phase=1.3,\n",
    "    geocent_time=1126259642.413,\n",
    "    ra=1.375,\n",
    "    dec=-1.2108,\n",
    ")\n",
    "\n",
    "\n",
    "waveform_arguments = dict(waveform_approximant = approximant, reference_frequency = reference_frequency, \n",
    "                         minimum_frequency = minimum_frequency, pn_spin_order = -1, \n",
    "                         pn_tidal_order = -1, pn_phase_order = -1, pn_amplitude_order = -1,\n",
    "                   mode_array = np.array([[2, 2], [3, 3]]))\n",
    "\n",
    "\n",
    "\n",
    "waveform_generator = bilby.gw.WaveformGenerator(duration = duration, \n",
    "                                               sampling_frequency=sampling_frequency, \n",
    "                                    frequency_domain_source_model = bilby.gw.source.lal_binary_black_hole,\n",
    "                    parameter_conversion=bilby.gw.conversion.convert_to_lal_binary_black_hole_parameters,\n",
    "                                               waveform_arguments = waveform_arguments)\n",
    "\n",
    "\n",
    "\n",
    "ifos = bilby.gw.detector.InterferometerList([\"H1\", \"L1\"])\n",
    "ifos.set_strain_data_from_power_spectral_densities(\n",
    "    sampling_frequency=sampling_frequency,\n",
    "    duration=duration,\n",
    "    start_time=params[\"geocent_time\"]+ duration - 2)\n",
    "\n",
    "ifos.inject_signal(waveform_generator=waveform_generator, parameters=params)\n"
   ]
  },
  {
   "cell_type": "code",
   "execution_count": 3,
   "id": "c6d8d390",
   "metadata": {},
   "outputs": [
    {
     "name": "stderr",
     "output_type": "stream",
     "text": [
      "12:18 bilby INFO    : No prior given, using default BBH priors in /Users/harsh/opt/anaconda3/envs/bilby-hom/lib/python3.10/site-packages/bilby-0.0.0-py3.10.egg/bilby/gw/prior_files/precessing_spins_bbh.prior.\n"
     ]
    }
   ],
   "source": [
    "priors = bilby.gw.prior.BBHPriorDict()\n",
    "priors['geocent_time'] = bilby.gw.prior.Uniform(minimum = params['geocent_time']-0.2, \n",
    "                                               maximum = params['geocent_time']+0.2)\n"
   ]
  },
  {
   "cell_type": "code",
   "execution_count": 4,
   "id": "96e75208",
   "metadata": {},
   "outputs": [
    {
     "name": "stderr",
     "output_type": "stream",
     "text": [
      "/Users/harsh/Dropbox/Mac/Documents/phd-projects/modebymode-relative-binning/relativebinningandvariants/hmrb/HMRBLikelihood.py:501: RuntimeWarning: invalid value encountered in divide\n",
      "  r = (self.t0/self.h0)[:,:,fbin_ind]\n"
     ]
    }
   ],
   "source": [
    "lh = RelativeBinningHOM(interferometers=ifos, waveform_generator=waveform_generator, \n",
    "                        fiducial_model=params, test_model=params, priors=priors)\n",
    "bilh = bilby.gw.likelihood.GravitationalWaveTransient(interferometers=ifos, \n",
    "                    waveform_generator=waveform_generator, priors = priors)"
   ]
  },
  {
   "cell_type": "code",
   "execution_count": 5,
   "id": "e1378b73",
   "metadata": {},
   "outputs": [],
   "source": [
    "max_L_params = params\n",
    "lh.parameters = max_L_params\n"
   ]
  },
  {
   "cell_type": "code",
   "execution_count": 6,
   "id": "118b45ec",
   "metadata": {},
   "outputs": [
    {
     "name": "stdout",
     "output_type": "stream",
     "text": [
      "Bilby likelihood 669.7369723696316\n",
      "Relativebilbying likelihood 669.7415058171425\n"
     ]
    }
   ],
   "source": [
    "bilh.parameters = max_L_params\n",
    "max_lh = lh.log_likelihood_ratio()\n",
    "max_bilh = bilh.log_likelihood_ratio()\n",
    "print('Bilby likelihood', max_bilh)\n",
    "print('Relativebilbying likelihood', max_lh)"
   ]
  },
  {
   "cell_type": "code",
   "execution_count": 24,
   "id": "499d3bad",
   "metadata": {},
   "outputs": [],
   "source": [
    "num_samples = 100000\n",
    "samples = {}\n",
    "\n",
    "for key, values in priors.items():\n",
    "    samples[key] = values.sample(num_samples)\n",
    "\n",
    "samples.pop('mass_1')\n",
    "samples.pop('mass_2')\n"
   ]
  },
  {
   "cell_type": "code",
   "execution_count": 25,
   "id": "a5b46a92",
   "metadata": {},
   "outputs": [
    {
     "ename": "KeyboardInterrupt",
     "evalue": "",
     "output_type": "error",
     "traceback": [
      "\u001b[0;31m---------------------------------------------------------------------------\u001b[0m",
      "\u001b[0;31mKeyboardInterrupt\u001b[0m                         Traceback (most recent call last)",
      "Input \u001b[0;32mIn [25]\u001b[0m, in \u001b[0;36m<cell line: 4>\u001b[0;34m()\u001b[0m\n\u001b[1;32m      7\u001b[0m lh\u001b[38;5;241m.\u001b[39mparameters \u001b[38;5;241m=\u001b[39m construct_dict\n\u001b[1;32m      8\u001b[0m bilh_array[i] \u001b[38;5;241m=\u001b[39m bilh\u001b[38;5;241m.\u001b[39mlog_likelihood_ratio()\n\u001b[0;32m----> 9\u001b[0m relby_array[i] \u001b[38;5;241m=\u001b[39m \u001b[43mlh\u001b[49m\u001b[38;5;241;43m.\u001b[39;49m\u001b[43mlog_likelihood_ratio\u001b[49m\u001b[43m(\u001b[49m\u001b[43m)\u001b[49m\n",
      "File \u001b[0;32m~/Dropbox/Mac/Documents/phd-projects/modebymode-relative-binning/relativebinningandvariants/hmrb/HMRBLikelihood.py:322\u001b[0m, in \u001b[0;36mRelativeBinningHOM.log_likelihood_ratio\u001b[0;34m(self, scheme)\u001b[0m\n\u001b[1;32m    319\u001b[0m \u001b[38;5;28;01melif\u001b[39;00m scheme \u001b[38;5;241m==\u001b[39m \u001b[38;5;241m2\u001b[39m:\n\u001b[1;32m    320\u001b[0m     fbin, h0, A0, A1, B0, B1 \u001b[38;5;241m=\u001b[39m \u001b[38;5;28mself\u001b[39m\u001b[38;5;241m.\u001b[39mbinning_info\n\u001b[0;32m--> 322\u001b[0m     h \u001b[38;5;241m=\u001b[39m \u001b[43mget_binned_detector_response\u001b[49m\u001b[43m(\u001b[49m\u001b[38;5;28;43mself\u001b[39;49m\u001b[38;5;241;43m.\u001b[39;49m\u001b[43minterferometers\u001b[49m\u001b[43m,\u001b[49m\u001b[43m \u001b[49m\u001b[38;5;28;43mself\u001b[39;49m\u001b[38;5;241;43m.\u001b[39;49m\u001b[43mwaveform_generator\u001b[49m\u001b[43m,\u001b[49m\u001b[43m \u001b[49m\u001b[38;5;28;43mself\u001b[39;49m\u001b[38;5;241;43m.\u001b[39;49m\u001b[43mparameters\u001b[49m\u001b[43m,\u001b[49m\u001b[43m \u001b[49m\u001b[38;5;28;43mself\u001b[39;49m\u001b[38;5;241;43m.\u001b[39;49m\u001b[43mmode_array\u001b[49m\u001b[43m,\u001b[49m\u001b[43m \u001b[49m\u001b[43mfbin\u001b[49m\u001b[43m)\u001b[49m\u001b[38;5;66;03m#xphm.compute_strain_components(pdict, fbin_seq, detstrings=detstrings)\u001b[39;00m\n\u001b[1;32m    324\u001b[0m     r \u001b[38;5;241m=\u001b[39m (h\u001b[38;5;241m/\u001b[39mh0)\n\u001b[1;32m    326\u001b[0m     r0, r1 \u001b[38;5;241m=\u001b[39m compute_bin_coefficients(fbin, r)\n",
      "File \u001b[0;32m~/Dropbox/Mac/Documents/phd-projects/modebymode-relative-binning/relativebinningandvariants/hmrb/HMRBLikelihood.py:93\u001b[0m, in \u001b[0;36mget_binned_detector_response\u001b[0;34m(ifos, waveform_generator, parameters, mode_array, fs)\u001b[0m\n\u001b[1;32m     91\u001b[0m \u001b[38;5;28;01mfor\u001b[39;00m i \u001b[38;5;129;01min\u001b[39;00m \u001b[38;5;28mrange\u001b[39m(\u001b[38;5;28mlen\u001b[39m(ifos)):\n\u001b[1;32m     92\u001b[0m     \u001b[38;5;28;01mfor\u001b[39;00m j \u001b[38;5;129;01min\u001b[39;00m \u001b[38;5;28mrange\u001b[39m(\u001b[38;5;28mlen\u001b[39m(mode_array)):\n\u001b[0;32m---> 93\u001b[0m         waveform_polarizations \u001b[38;5;241m=\u001b[39m \u001b[43mget_binned_polarizations\u001b[49m\u001b[43m(\u001b[49m\u001b[43mparameters\u001b[49m\u001b[43m,\u001b[49m\u001b[43m \u001b[49m\u001b[43mwaveform_generator\u001b[49m\u001b[43m,\u001b[49m\u001b[43m \u001b[49m\u001b[43mmode_array\u001b[49m\u001b[43m[\u001b[49m\u001b[43mj\u001b[49m\u001b[43m]\u001b[49m\u001b[43m,\u001b[49m\u001b[43m \u001b[49m\u001b[43mfs\u001b[49m\u001b[43m)\u001b[49m\n\u001b[1;32m     95\u001b[0m         signal \u001b[38;5;241m=\u001b[39m {}\n\u001b[1;32m     96\u001b[0m         \u001b[38;5;28;01mfor\u001b[39;00m pola \u001b[38;5;129;01min\u001b[39;00m waveform_polarizations\u001b[38;5;241m.\u001b[39mkeys():\n",
      "File \u001b[0;32m~/Dropbox/Mac/Documents/phd-projects/modebymode-relative-binning/relativebinningandvariants/hmrb/HMRBLikelihood.py:200\u001b[0m, in \u001b[0;36mget_binned_polarizations\u001b[0;34m(parameters, waveform_generator, mode, fs)\u001b[0m\n\u001b[1;32m    197\u001b[0m lalsim\u001b[38;5;241m.\u001b[39mSimInspiralWaveformParamsInsertModeArray(lal_pars, mode_array_lal)\n\u001b[1;32m    199\u001b[0m \u001b[38;5;66;03m# make the polarizations at the correct frequencies\u001b[39;00m\n\u001b[0;32m--> 200\u001b[0m hpl, hcr \u001b[38;5;241m=\u001b[39m \u001b[43mbilby\u001b[49m\u001b[38;5;241;43m.\u001b[39;49m\u001b[43mgw\u001b[49m\u001b[38;5;241;43m.\u001b[39;49m\u001b[43mutils\u001b[49m\u001b[38;5;241;43m.\u001b[39;49m\u001b[43mlalsim_SimInspiralChooseFDWaveformSequence\u001b[49m\u001b[43m(\u001b[49m\u001b[43mparams\u001b[49m\u001b[43m[\u001b[49m\u001b[38;5;124;43m'\u001b[39;49m\u001b[38;5;124;43mphase\u001b[39;49m\u001b[38;5;124;43m'\u001b[39;49m\u001b[43m]\u001b[49m\u001b[43m,\u001b[49m\n\u001b[1;32m    201\u001b[0m \u001b[43m                          \u001b[49m\u001b[43mm1\u001b[49m\u001b[43m,\u001b[49m\u001b[43m \u001b[49m\u001b[43mm2\u001b[49m\u001b[43m,\u001b[49m\u001b[43m \u001b[49m\u001b[43ms1x\u001b[49m\u001b[43m,\u001b[49m\u001b[43m \u001b[49m\u001b[43ms1y\u001b[49m\u001b[43m,\u001b[49m\u001b[43m \u001b[49m\u001b[43ms1z\u001b[49m\u001b[43m,\u001b[49m\u001b[43m \u001b[49m\u001b[43ms2x\u001b[49m\u001b[43m,\u001b[49m\u001b[43m \u001b[49m\u001b[43ms2y\u001b[49m\u001b[43m,\u001b[49m\u001b[43m \u001b[49m\u001b[43ms2z\u001b[49m\u001b[43m,\u001b[49m\u001b[43m \u001b[49m\n\u001b[1;32m    202\u001b[0m \u001b[43m                          \u001b[49m\u001b[43mwaveform_generator\u001b[49m\u001b[38;5;241;43m.\u001b[39;49m\u001b[43mwaveform_arguments\u001b[49m\u001b[43m[\u001b[49m\u001b[38;5;124;43m'\u001b[39;49m\u001b[38;5;124;43mreference_frequency\u001b[39;49m\u001b[38;5;124;43m'\u001b[39;49m\u001b[43m]\u001b[49m\u001b[43m,\u001b[49m\n\u001b[1;32m    203\u001b[0m \u001b[43m                          \u001b[49m\u001b[43mlum_dist\u001b[49m\u001b[43m,\u001b[49m\u001b[43m \u001b[49m\u001b[43miota\u001b[49m\u001b[43m,\u001b[49m\u001b[43m \u001b[49m\u001b[43mlal_pars\u001b[49m\u001b[43m,\u001b[49m\n\u001b[1;32m    204\u001b[0m \u001b[43m                          \u001b[49m\u001b[43mwaveform_generator\u001b[49m\u001b[38;5;241;43m.\u001b[39;49m\u001b[43mwaveform_arguments\u001b[49m\u001b[43m[\u001b[49m\u001b[38;5;124;43m'\u001b[39;49m\u001b[38;5;124;43mwaveform_approximant\u001b[39;49m\u001b[38;5;124;43m'\u001b[39;49m\u001b[43m]\u001b[49m\u001b[43m,\u001b[49m\n\u001b[1;32m    205\u001b[0m \u001b[43m                          \u001b[49m\u001b[43mfs_seq\u001b[49m\u001b[43m)\u001b[49m\n\u001b[1;32m    207\u001b[0m \u001b[38;5;28;01mreturn\u001b[39;00m {\u001b[38;5;124m'\u001b[39m\u001b[38;5;124mplus\u001b[39m\u001b[38;5;124m'\u001b[39m : hpl\u001b[38;5;241m.\u001b[39mdata\u001b[38;5;241m.\u001b[39mdata, \u001b[38;5;124m'\u001b[39m\u001b[38;5;124mcross\u001b[39m\u001b[38;5;124m'\u001b[39m : hcr\u001b[38;5;241m.\u001b[39mdata\u001b[38;5;241m.\u001b[39mdata}\n",
      "File \u001b[0;32m~/opt/anaconda3/envs/bilby-hom/lib/python3.10/site-packages/bilby-0.0.0-py3.10.egg/bilby/gw/utils.py:760\u001b[0m, in \u001b[0;36mlalsim_SimInspiralChooseFDWaveformSequence\u001b[0;34m(phase, mass_1, mass_2, spin_1x, spin_1y, spin_1z, spin_2x, spin_2y, spin_2z, reference_frequency, luminosity_distance, iota, waveform_dictionary, approximant, frequency_array)\u001b[0m\n\u001b[1;32m    757\u001b[0m     frequency_array \u001b[38;5;241m=\u001b[39m CreateREAL8Vector(\u001b[38;5;28mlen\u001b[39m(old_frequency_array))\n\u001b[1;32m    758\u001b[0m     frequency_array\u001b[38;5;241m.\u001b[39mdata \u001b[38;5;241m=\u001b[39m old_frequency_array\n\u001b[0;32m--> 760\u001b[0m \u001b[38;5;28;01mreturn\u001b[39;00m \u001b[43mSimInspiralChooseFDWaveformSequence\u001b[49m\u001b[43m(\u001b[49m\n\u001b[1;32m    761\u001b[0m \u001b[43m    \u001b[49m\u001b[43mphase\u001b[49m\u001b[43m,\u001b[49m\u001b[43m \u001b[49m\u001b[43mmass_1\u001b[49m\u001b[43m,\u001b[49m\u001b[43m \u001b[49m\u001b[43mmass_2\u001b[49m\u001b[43m,\u001b[49m\u001b[43m \u001b[49m\u001b[43mspin_1x\u001b[49m\u001b[43m,\u001b[49m\u001b[43m \u001b[49m\u001b[43mspin_1y\u001b[49m\u001b[43m,\u001b[49m\u001b[43m \u001b[49m\u001b[43mspin_1z\u001b[49m\u001b[43m,\u001b[49m\u001b[43m \u001b[49m\u001b[43mspin_2x\u001b[49m\u001b[43m,\u001b[49m\u001b[43m \u001b[49m\u001b[43mspin_2y\u001b[49m\u001b[43m,\u001b[49m\n\u001b[1;32m    762\u001b[0m \u001b[43m    \u001b[49m\u001b[43mspin_2z\u001b[49m\u001b[43m,\u001b[49m\u001b[43m \u001b[49m\u001b[43mreference_frequency\u001b[49m\u001b[43m,\u001b[49m\u001b[43m \u001b[49m\u001b[43mluminosity_distance\u001b[49m\u001b[43m,\u001b[49m\u001b[43m \u001b[49m\u001b[43miota\u001b[49m\u001b[43m,\u001b[49m\n\u001b[1;32m    763\u001b[0m \u001b[43m    \u001b[49m\u001b[43mwaveform_dictionary\u001b[49m\u001b[43m,\u001b[49m\u001b[43m \u001b[49m\u001b[43mapproximant\u001b[49m\u001b[43m,\u001b[49m\u001b[43m \u001b[49m\u001b[43mfrequency_array\u001b[49m\u001b[43m)\u001b[49m\n",
      "\u001b[0;31mKeyboardInterrupt\u001b[0m: "
     ]
    }
   ],
   "source": [
    "bilh_array = np.zeros(num_samples)\n",
    "relby_array = np.zeros(num_samples)\n",
    "\n",
    "for i in range(num_samples):\n",
    "    construct_dict = {key:val[i] for key, val in samples.items()}\n",
    "    bilh.parameters = construct_dict\n",
    "    lh.parameters = construct_dict\n",
    "    bilh_array[i] = bilh.log_likelihood_ratio()\n",
    "    relby_array[i] = lh.log_likelihood_ratio()\n",
    "    \n"
   ]
  },
  {
   "cell_type": "code",
   "execution_count": null,
   "id": "3f44ba54",
   "metadata": {},
   "outputs": [],
   "source": [
    "plt.scatter(samples['chirp_mass'], bilh_array, marker = 'o')\n",
    "plt.scatter(samples['chirp_mass'], relby_array, marker = 'x')\n",
    "plt.yscale('log')\n",
    "plt.figure()\n",
    "diff = bilh_array-relby_array\n",
    "plt.scatter(samples['chirp_mass'], diff)\n",
    "plt.yscale('log')\n",
    "\n",
    "\n"
   ]
  },
  {
   "cell_type": "code",
   "execution_count": null,
   "id": "8195ddc7",
   "metadata": {},
   "outputs": [],
   "source": []
  }
 ],
 "metadata": {
  "kernelspec": {
   "display_name": "bilby-hom",
   "language": "python",
   "name": "bilby-hom"
  },
  "language_info": {
   "codemirror_mode": {
    "name": "ipython",
    "version": 3
   },
   "file_extension": ".py",
   "mimetype": "text/x-python",
   "name": "python",
   "nbconvert_exporter": "python",
   "pygments_lexer": "ipython3",
   "version": "3.10.4"
  }
 },
 "nbformat": 4,
 "nbformat_minor": 5
}
